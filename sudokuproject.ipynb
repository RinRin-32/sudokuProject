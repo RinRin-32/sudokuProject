{
 "cells": [
  {
   "metadata": {
    "ExecuteTime": {
     "end_time": "2024-04-30T03:44:19.771679Z",
     "start_time": "2024-04-30T03:44:19.768688Z"
    }
   },
   "cell_type": "code",
   "source": [
    "import numpy as np\n",
    "import itertools"
   ],
   "id": "77cca9f282850f3b",
   "outputs": [],
   "execution_count": 54
  },
  {
   "cell_type": "code",
   "id": "initial_id",
   "metadata": {
    "collapsed": true,
    "ExecuteTime": {
     "end_time": "2024-04-30T03:44:19.776491Z",
     "start_time": "2024-04-30T03:44:19.773366Z"
    }
   },
   "source": [
    "class Board:\n",
    "    def __init__(self, state = np.empty((9, 9), dtype=int)):\n",
    "        self.board = state\n",
    "        self.nextState = []\n",
    "        self.ans = []\n",
    "        self.position = [0,0]\n",
    "    def setBoard(self, row, column, number):\n",
    "        copy = np.copy(self.board)\n",
    "        copy[row, column] = number\n",
    "        nextState = Board(copy)\n",
    "        self.nextState.append(nextState)\n",
    "        return nextState"
   ],
   "outputs": [],
   "execution_count": 55
  },
  {
   "metadata": {
    "ExecuteTime": {
     "end_time": "2024-04-30T03:44:19.782409Z",
     "start_time": "2024-04-30T03:44:19.777452Z"
    }
   },
   "cell_type": "code",
   "source": [
    "def dfs(graph):\n",
    "    queue, path = graph, []\n",
    "    row, column = graph[0].board.shape\n",
    "    while queue:\n",
    "        vertex = queue.pop(0)\n",
    "        path.append(vertex)\n",
    "        if np.count_nonzero(vertex.board==0) == 0:\n",
    "            return path\n",
    "        for i in range(row):\n",
    "            check = False\n",
    "            for j in range(column):\n",
    "                possibleans = []\n",
    "                if vertex.board[i,j] == 0:\n",
    "                    if len(vertex.ans) == 0:\n",
    "                        for k in range(1,10):\n",
    "                            copy = np.copy(vertex.board)\n",
    "                            row_ele = copy[i, :].tolist()\n",
    "                            row_col = copy[:, j].tolist()\n",
    "                            x = i//3\n",
    "                            #print(x)\n",
    "                            y = j//3\n",
    "                            square = list(itertools.chain(*copy[3*x:3*x+3, 3*y:3*y+3].tolist()))\n",
    "                            #print(row_ele, row_col, square)\n",
    "                            if (k not in row_ele) and (k not in row_col) and (k not in square):\n",
    "                                possibleans.append(k)\n",
    "                                vertex.ans = possibleans\n",
    "                        print(possibleans)\n",
    "                    else:\n",
    "                        possibleans = vertex.ans\n",
    "                    if len(possibleans) > 0:        \n",
    "                        neighbor = vertex.setBoard(i, j, vertex.ans[0])\n",
    "                        neighbor.position = [i,j]\n",
    "                        neighbor.ans = possibleans\n",
    "                        queue.append(neighbor)\n",
    "                        break\n",
    "                    elif len(possibleans) == 0:\n",
    "                        prev = path.pop(-1)\n",
    "                        prev.ans.pop(0)\n",
    "                        queue.append(prev)       \n",
    "                        break\n",
    "            break\n",
    "    return path"
   ],
   "id": "961edee16abc31be",
   "outputs": [],
   "execution_count": 56
  },
  {
   "metadata": {
    "ExecuteTime": {
     "end_time": "2024-04-30T03:44:19.786557Z",
     "start_time": "2024-04-30T03:44:19.783876Z"
    }
   },
   "cell_type": "code",
   "source": [
    "sudoku = Board(np.array([[8, 0, 0, 6, 0, 0, 0, 2, 0],\n",
    "                         [0, 0, 3, 0, 9, 4, 6, 0, 0],\n",
    "                         [7, 0, 0, 5, 0, 0, 0, 9, 3],\n",
    "                         [9, 0, 0, 8, 6, 0, 5, 0, 0],\n",
    "                         [4, 8, 0, 3, 0, 9, 0, 6, 1],\n",
    "                         [0, 0, 6, 0, 4, 2, 0, 0, 9],\n",
    "                         [6, 9, 0, 0, 0, 5, 0, 0, 2],\n",
    "                         [0, 0, 4, 9, 1, 0, 3, 0, 0],\n",
    "                         [0, 1, 0, 0, 0, 7, 0, 0, 6],]))"
   ],
   "id": "7c5ec6e493e549dd",
   "outputs": [],
   "execution_count": 57
  },
  {
   "metadata": {
    "ExecuteTime": {
     "end_time": "2024-04-30T03:44:19.788593Z",
     "start_time": "2024-04-30T03:44:19.787270Z"
    }
   },
   "cell_type": "code",
   "source": "initial = [sudoku]",
   "id": "2830359a3e6823fe",
   "outputs": [],
   "execution_count": 58
  },
  {
   "metadata": {
    "ExecuteTime": {
     "end_time": "2024-04-30T03:44:19.790855Z",
     "start_time": "2024-04-30T03:44:19.789157Z"
    }
   },
   "cell_type": "code",
   "source": "dfs_res = dfs(initial)",
   "id": "e0c0e7ed28d655d5",
   "outputs": [
    {
     "name": "stdout",
     "output_type": "stream",
     "text": [
      "[4, 5]\n"
     ]
    }
   ],
   "execution_count": 59
  },
  {
   "metadata": {
    "ExecuteTime": {
     "end_time": "2024-04-30T03:44:19.793788Z",
     "start_time": "2024-04-30T03:44:19.791596Z"
    }
   },
   "cell_type": "code",
   "source": "len(dfs_res)",
   "id": "a942bdbfe975f86",
   "outputs": [
    {
     "data": {
      "text/plain": [
       "7"
      ]
     },
     "execution_count": 60,
     "metadata": {},
     "output_type": "execute_result"
    }
   ],
   "execution_count": 60
  },
  {
   "metadata": {
    "ExecuteTime": {
     "end_time": "2024-04-30T03:44:19.796338Z",
     "start_time": "2024-04-30T03:44:19.794368Z"
    }
   },
   "cell_type": "code",
   "source": "dfs_res[-1].board",
   "id": "5a6936bfe8d58b4d",
   "outputs": [
    {
     "data": {
      "text/plain": [
       "array([[8, 4, 4, 6, 4, 4, 4, 2, 4],\n",
       "       [0, 0, 3, 0, 9, 4, 6, 0, 0],\n",
       "       [7, 0, 0, 5, 0, 0, 0, 9, 3],\n",
       "       [9, 0, 0, 8, 6, 0, 5, 0, 0],\n",
       "       [4, 8, 0, 3, 0, 9, 0, 6, 1],\n",
       "       [0, 0, 6, 0, 4, 2, 0, 0, 9],\n",
       "       [6, 9, 0, 0, 0, 5, 0, 0, 2],\n",
       "       [0, 0, 4, 9, 1, 0, 3, 0, 0],\n",
       "       [0, 1, 0, 0, 0, 7, 0, 0, 6]])"
      ]
     },
     "execution_count": 61,
     "metadata": {},
     "output_type": "execute_result"
    }
   ],
   "execution_count": 61
  },
  {
   "metadata": {
    "ExecuteTime": {
     "end_time": "2024-04-30T03:44:19.797968Z",
     "start_time": "2024-04-30T03:44:19.796904Z"
    }
   },
   "cell_type": "code",
   "source": "",
   "id": "85f7faff4c964b0e",
   "outputs": [],
   "execution_count": 61
  }
 ],
 "metadata": {
  "kernelspec": {
   "display_name": "Python 3",
   "language": "python",
   "name": "python3"
  },
  "language_info": {
   "codemirror_mode": {
    "name": "ipython",
    "version": 2
   },
   "file_extension": ".py",
   "mimetype": "text/x-python",
   "name": "python",
   "nbconvert_exporter": "python",
   "pygments_lexer": "ipython2",
   "version": "2.7.6"
  }
 },
 "nbformat": 4,
 "nbformat_minor": 5
}
