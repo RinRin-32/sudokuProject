{
 "cells": [
  {
   "metadata": {
    "ExecuteTime": {
     "end_time": "2024-04-29T12:10:09.412881Z",
     "start_time": "2024-04-29T12:10:09.402878Z"
    }
   },
   "cell_type": "code",
   "source": "import numpy as np",
   "id": "77cca9f282850f3b",
   "outputs": [],
   "execution_count": 88
  },
  {
   "cell_type": "code",
   "id": "initial_id",
   "metadata": {
    "collapsed": true,
    "ExecuteTime": {
     "end_time": "2024-04-29T12:10:09.428390Z",
     "start_time": "2024-04-29T12:10:09.414881Z"
    }
   },
   "source": [
    "class Board:\n",
    "    def __init__(self, state = np.empty((9, 9), dtype=int)):\n",
    "        self.board = state\n",
    "        self.nextState = []\n",
    "    def setBoard(self, row, column, number):\n",
    "        copy = np.copy(self.board)\n",
    "        copy[row, column] = number\n",
    "        nextState = Board(copy)\n",
    "        self.nextState.append(nextState)\n",
    "        return nextState"
   ],
   "outputs": [],
   "execution_count": 89
  },
  {
   "metadata": {
    "ExecuteTime": {
     "end_time": "2024-04-29T12:10:09.444390Z",
     "start_time": "2024-04-29T12:10:09.429391Z"
    }
   },
   "cell_type": "code",
   "source": [
    "def bfs(graph):\n",
    "    queue, path = graph, []\n",
    "    row, column = graph[0].board.shape\n",
    "    while queue:\n",
    "        vertex = queue.pop(0)\n",
    "        path.append(vertex)\n",
    "        if np.count_nonzero(vertex.board==0) == 0:\n",
    "            return path\n",
    "        for i in range(row):\n",
    "            for j in range(column):\n",
    "                if vertex.board[i,j] == 0:\n",
    "                    for k in range(1,10):\n",
    "                        copy = np.copy(vertex.board)\n",
    "                        row_ele = copy[i, :].tolist()\n",
    "                        row_col = copy[:, j].tolist()\n",
    "                        if k not in row_ele or k not in row_col:\n",
    "                            neighbor = vertex.setBoard(i,j,k)\n",
    "                            queue.append(neighbor)\n",
    "                            #print(\"add done\")\n",
    "    return path\n",
    "                            \n",
    "                            \n",
    "    "
   ],
   "id": "961edee16abc31be",
   "outputs": [],
   "execution_count": 90
  },
  {
   "metadata": {
    "ExecuteTime": {
     "end_time": "2024-04-29T12:10:09.460391Z",
     "start_time": "2024-04-29T12:10:09.445390Z"
    }
   },
   "cell_type": "code",
   "source": [
    "sudoku = Board(np.array([[8, 0, 0, 6, 0, 0, 0, 2, 0],\n",
    "                         [0, 0, 3, 0, 9, 4, 6, 0, 0],\n",
    "                         [7, 0, 0, 5, 0, 0, 0, 9, 3],\n",
    "                         [9, 0, 0, 8, 6, 0, 5, 0, 0],\n",
    "                         [4, 8, 0, 3, 0, 9, 0, 6, 1],\n",
    "                         [0, 0, 6, 0, 4, 2, 0, 0, 9],\n",
    "                         [6, 9, 0, 0, 0, 5, 0, 0, 2],\n",
    "                         [0, 0, 4, 9, 1, 0, 3, 0, 0],\n",
    "                         [0, 1, 0, 0, 0, 7, 0, 0, 6],]))"
   ],
   "id": "7c5ec6e493e549dd",
   "outputs": [],
   "execution_count": 91
  },
  {
   "metadata": {
    "ExecuteTime": {
     "end_time": "2024-04-29T12:10:09.476390Z",
     "start_time": "2024-04-29T12:10:09.462393Z"
    }
   },
   "cell_type": "code",
   "source": "res = [sudoku]",
   "id": "2830359a3e6823fe",
   "outputs": [],
   "execution_count": 92
  },
  {
   "metadata": {
    "ExecuteTime": {
     "end_time": "2024-04-29T13:57:30.785812Z",
     "start_time": "2024-04-29T12:10:09.477390Z"
    }
   },
   "cell_type": "code",
   "source": "bfs_res = bfs(res)",
   "id": "e0c0e7ed28d655d5",
   "outputs": [
    {
     "ename": "KeyboardInterrupt",
     "evalue": "",
     "output_type": "error",
     "traceback": [
      "\u001B[1;31m---------------------------------------------------------------------------\u001B[0m",
      "\u001B[1;31mKeyboardInterrupt\u001B[0m                         Traceback (most recent call last)",
      "Cell \u001B[1;32mIn[93], line 1\u001B[0m\n\u001B[1;32m----> 1\u001B[0m bfs_res \u001B[38;5;241m=\u001B[39m \u001B[43mbfs\u001B[49m\u001B[43m(\u001B[49m\u001B[43mres\u001B[49m\u001B[43m)\u001B[49m\n",
      "Cell \u001B[1;32mIn[90], line 13\u001B[0m, in \u001B[0;36mbfs\u001B[1;34m(graph)\u001B[0m\n\u001B[0;32m     11\u001B[0m \u001B[38;5;28;01mif\u001B[39;00m vertex\u001B[38;5;241m.\u001B[39mboard[i,j] \u001B[38;5;241m==\u001B[39m \u001B[38;5;241m0\u001B[39m:\n\u001B[0;32m     12\u001B[0m     \u001B[38;5;28;01mfor\u001B[39;00m k \u001B[38;5;129;01min\u001B[39;00m \u001B[38;5;28mrange\u001B[39m(\u001B[38;5;241m1\u001B[39m,\u001B[38;5;241m10\u001B[39m):\n\u001B[1;32m---> 13\u001B[0m         copy \u001B[38;5;241m=\u001B[39m \u001B[43mnp\u001B[49m\u001B[38;5;241;43m.\u001B[39;49m\u001B[43mcopy\u001B[49m\u001B[43m(\u001B[49m\u001B[43mvertex\u001B[49m\u001B[38;5;241;43m.\u001B[39;49m\u001B[43mboard\u001B[49m\u001B[43m)\u001B[49m\n\u001B[0;32m     14\u001B[0m         row_ele \u001B[38;5;241m=\u001B[39m copy[i, :]\u001B[38;5;241m.\u001B[39mtolist()\n\u001B[0;32m     15\u001B[0m         row_col \u001B[38;5;241m=\u001B[39m copy[:, j]\u001B[38;5;241m.\u001B[39mtolist()\n",
      "File \u001B[1;32m<__array_function__ internals>:200\u001B[0m, in \u001B[0;36mcopy\u001B[1;34m(*args, **kwargs)\u001B[0m\n",
      "File \u001B[1;32m~\\anaconda3\\envs\\AI_Class\\lib\\site-packages\\numpy\\lib\\function_base.py:960\u001B[0m, in \u001B[0;36mcopy\u001B[1;34m(a, order, subok)\u001B[0m\n\u001B[0;32m    871\u001B[0m \u001B[38;5;129m@array_function_dispatch\u001B[39m(_copy_dispatcher)\n\u001B[0;32m    872\u001B[0m \u001B[38;5;28;01mdef\u001B[39;00m \u001B[38;5;21mcopy\u001B[39m(a, order\u001B[38;5;241m=\u001B[39m\u001B[38;5;124m'\u001B[39m\u001B[38;5;124mK\u001B[39m\u001B[38;5;124m'\u001B[39m, subok\u001B[38;5;241m=\u001B[39m\u001B[38;5;28;01mFalse\u001B[39;00m):\n\u001B[0;32m    873\u001B[0m \u001B[38;5;250m    \u001B[39m\u001B[38;5;124;03m\"\"\"\u001B[39;00m\n\u001B[0;32m    874\u001B[0m \u001B[38;5;124;03m    Return an array copy of the given object.\u001B[39;00m\n\u001B[0;32m    875\u001B[0m \n\u001B[1;32m   (...)\u001B[0m\n\u001B[0;32m    958\u001B[0m \n\u001B[0;32m    959\u001B[0m \u001B[38;5;124;03m    \"\"\"\u001B[39;00m\n\u001B[1;32m--> 960\u001B[0m     \u001B[38;5;28;01mreturn\u001B[39;00m \u001B[43marray\u001B[49m\u001B[43m(\u001B[49m\u001B[43ma\u001B[49m\u001B[43m,\u001B[49m\u001B[43m \u001B[49m\u001B[43morder\u001B[49m\u001B[38;5;241;43m=\u001B[39;49m\u001B[43morder\u001B[49m\u001B[43m,\u001B[49m\u001B[43m \u001B[49m\u001B[43msubok\u001B[49m\u001B[38;5;241;43m=\u001B[39;49m\u001B[43msubok\u001B[49m\u001B[43m,\u001B[49m\u001B[43m \u001B[49m\u001B[43mcopy\u001B[49m\u001B[38;5;241;43m=\u001B[39;49m\u001B[38;5;28;43;01mTrue\u001B[39;49;00m\u001B[43m)\u001B[49m\n",
      "\u001B[1;31mKeyboardInterrupt\u001B[0m: "
     ]
    }
   ],
   "execution_count": 93
  },
  {
   "metadata": {
    "ExecuteTime": {
     "end_time": "2024-04-29T13:57:30.788815Z",
     "start_time": "2024-04-29T13:57:30.788815Z"
    }
   },
   "cell_type": "code",
   "source": "len(bfs_res)",
   "id": "a942bdbfe975f86",
   "outputs": [],
   "execution_count": null
  },
  {
   "metadata": {},
   "cell_type": "code",
   "source": "bfs_res[0].board",
   "id": "5a6936bfe8d58b4d",
   "outputs": [],
   "execution_count": null
  },
  {
   "metadata": {},
   "cell_type": "code",
   "source": "",
   "id": "85f7faff4c964b0e",
   "outputs": [],
   "execution_count": null
  }
 ],
 "metadata": {
  "kernelspec": {
   "display_name": "Python 3",
   "language": "python",
   "name": "python3"
  },
  "language_info": {
   "codemirror_mode": {
    "name": "ipython",
    "version": 2
   },
   "file_extension": ".py",
   "mimetype": "text/x-python",
   "name": "python",
   "nbconvert_exporter": "python",
   "pygments_lexer": "ipython2",
   "version": "2.7.6"
  }
 },
 "nbformat": 4,
 "nbformat_minor": 5
}
