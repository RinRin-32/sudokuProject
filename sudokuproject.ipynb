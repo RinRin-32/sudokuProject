{
 "cells": [
  {
   "metadata": {
    "ExecuteTime": {
     "end_time": "2024-04-29T10:50:51.088663Z",
     "start_time": "2024-04-29T10:50:51.077140Z"
    }
   },
   "cell_type": "code",
   "source": "import numpy as np",
   "id": "77cca9f282850f3b",
   "outputs": [],
   "execution_count": 65
  },
  {
   "cell_type": "code",
   "id": "initial_id",
   "metadata": {
    "collapsed": true,
    "ExecuteTime": {
     "end_time": "2024-04-29T11:01:05.114657Z",
     "start_time": "2024-04-29T11:01:05.099520Z"
    }
   },
   "source": [
    "class Board:\n",
    "    def __init__(self, state = np.zeros((9, 9), dtype=int)):\n",
    "        self.board = state\n",
    "        self.nextState = []\n",
    "    def setBoard(self, row, column, number):\n",
    "        copy = np.copy(self.board)\n",
    "        copy[row, column] = number\n",
    "        nextState = Board(copy)\n",
    "        self.nextState.append(nextState)\n",
    "        return nextState"
   ],
   "outputs": [],
   "execution_count": 82
  },
  {
   "metadata": {
    "ExecuteTime": {
     "end_time": "2024-04-29T11:01:27.221217Z",
     "start_time": "2024-04-29T11:01:27.206219Z"
    }
   },
   "cell_type": "code",
   "source": [
    "sudoku = Board(np.array([[8, 0, 0, 6, 0, 0, 0, 2, 0],\n",
    "                         [0, 0, 3, 0, 9, 4, 6, 0, 0],\n",
    "                         [7, 0, 0, 5, 0, 0, 0, 9, 3],\n",
    "                         [9, 0, 0, 8, 6, 0, 5, 0, 0],\n",
    "                         [4, 8, 0, 3, 0, 9, 0, 6, 1],\n",
    "                         [0, 0, 6, 0, 4, 2, 0, 0, 9],\n",
    "                         [6, 9, 0, 0, 0, 5, 0, 0, 2],\n",
    "                         [0, 0, 4, 9, 1, 0, 3, 0, 0],\n",
    "                         [0, 1, 0, 0, 0, 7, 0, 0, 6],]))"
   ],
   "id": "7c5ec6e493e549dd",
   "outputs": [],
   "execution_count": 87
  },
  {
   "metadata": {
    "ExecuteTime": {
     "end_time": "2024-04-29T11:01:06.011291Z",
     "start_time": "2024-04-29T11:01:06.003294Z"
    }
   },
   "cell_type": "code",
   "source": "",
   "id": "292e48076882e592",
   "outputs": [],
   "execution_count": 84
  },
  {
   "metadata": {
    "ExecuteTime": {
     "end_time": "2024-04-29T11:01:13.446521Z",
     "start_time": "2024-04-29T11:01:13.432523Z"
    }
   },
   "cell_type": "code",
   "source": "",
   "id": "2c93be5ac30c011d",
   "outputs": [
    {
     "data": {
      "text/plain": [
       "array([[1, 0, 0, 6, 0, 0, 0, 2, 0],\n",
       "       [0, 0, 3, 0, 9, 4, 6, 0, 0],\n",
       "       [7, 0, 0, 5, 0, 0, 0, 9, 3],\n",
       "       [9, 0, 0, 8, 6, 0, 5, 0, 0],\n",
       "       [4, 8, 0, 3, 0, 9, 0, 6, 1],\n",
       "       [0, 0, 6, 0, 4, 2, 0, 0, 9],\n",
       "       [6, 9, 0, 0, 0, 5, 0, 0, 2],\n",
       "       [0, 0, 4, 9, 1, 0, 3, 0, 0],\n",
       "       [0, 1, 0, 0, 0, 7, 0, 0, 6]])"
      ]
     },
     "execution_count": 86,
     "metadata": {},
     "output_type": "execute_result"
    }
   ],
   "execution_count": 86
  },
  {
   "metadata": {},
   "cell_type": "code",
   "outputs": [],
   "execution_count": null,
   "source": "",
   "id": "2830359a3e6823fe"
  }
 ],
 "metadata": {
  "kernelspec": {
   "display_name": "Python 3",
   "language": "python",
   "name": "python3"
  },
  "language_info": {
   "codemirror_mode": {
    "name": "ipython",
    "version": 2
   },
   "file_extension": ".py",
   "mimetype": "text/x-python",
   "name": "python",
   "nbconvert_exporter": "python",
   "pygments_lexer": "ipython2",
   "version": "2.7.6"
  }
 },
 "nbformat": 4,
 "nbformat_minor": 5
}
