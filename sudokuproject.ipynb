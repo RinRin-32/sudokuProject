{
 "cells": [
  {
   "metadata": {
    "ExecuteTime": {
     "end_time": "2024-04-29T15:09:05.217776Z",
     "start_time": "2024-04-29T15:09:05.206272Z"
    }
   },
   "cell_type": "code",
   "source": "import numpy as np",
   "id": "77cca9f282850f3b",
   "outputs": [],
   "execution_count": 141
  },
  {
   "cell_type": "code",
   "id": "initial_id",
   "metadata": {
    "collapsed": true,
    "ExecuteTime": {
     "end_time": "2024-04-29T15:09:05.233782Z",
     "start_time": "2024-04-29T15:09:05.220782Z"
    }
   },
   "source": [
    "class Board:\n",
    "    def __init__(self, state = np.empty((9, 9), dtype=int)):\n",
    "        self.board = state\n",
    "        self.nextState = []\n",
    "    def setBoard(self, row, column, number):\n",
    "        copy = np.copy(self.board)\n",
    "        copy[row, column] = number\n",
    "        nextState = Board(copy)\n",
    "        self.nextState.append(nextState)\n",
    "        return nextState"
   ],
   "outputs": [],
   "execution_count": 142
  },
  {
   "metadata": {
    "ExecuteTime": {
     "end_time": "2024-04-29T15:09:05.249781Z",
     "start_time": "2024-04-29T15:09:05.235786Z"
    }
   },
   "cell_type": "code",
   "source": [
    "def bfs(graph):\n",
    "    queue, path = graph, []\n",
    "    row, column = graph[0].board.shape\n",
    "    while queue:\n",
    "        vertex = queue.pop(0)\n",
    "        path.append(vertex)\n",
    "        if np.count_nonzero(vertex.board==0) == 0:\n",
    "            return path\n",
    "        for i in range(row):\n",
    "            for j in range(column):\n",
    "                if vertex.board[i,j] == 0:\n",
    "                    for k in range(1,10):\n",
    "                        copy = np.copy(vertex.board)\n",
    "                        row_ele = copy[i, :].tolist()\n",
    "                        row_col = copy[:, j].tolist()\n",
    "                        if k not in row_ele or k not in row_col:\n",
    "                            neighbor = vertex.setBoard(i,j,k)\n",
    "                            queue.append(neighbor)\n",
    "                            #print(\"add done\")\n",
    "    return path\n",
    "                            \n",
    "                            \n",
    "    "
   ],
   "id": "961edee16abc31be",
   "outputs": [],
   "execution_count": 143
  },
  {
   "metadata": {
    "ExecuteTime": {
     "end_time": "2024-04-29T15:09:05.265005Z",
     "start_time": "2024-04-29T15:09:05.251783Z"
    }
   },
   "cell_type": "code",
   "source": [
    "sudoku = Board(np.array([[8, 0, 0, 6, 0, 0, 0, 2, 0],\n",
    "                         [0, 0, 3, 0, 9, 4, 6, 0, 0],\n",
    "                         [7, 0, 0, 5, 0, 0, 0, 9, 3],\n",
    "                         [9, 0, 0, 8, 6, 0, 5, 0, 0],\n",
    "                         [4, 8, 0, 3, 0, 9, 0, 6, 1],\n",
    "                         [0, 0, 6, 0, 4, 2, 0, 0, 9],\n",
    "                         [6, 9, 0, 0, 0, 5, 0, 0, 2],\n",
    "                         [0, 0, 4, 9, 1, 0, 3, 0, 0],\n",
    "                         [0, 1, 0, 0, 0, 7, 0, 0, 6],]))"
   ],
   "id": "7c5ec6e493e549dd",
   "outputs": [],
   "execution_count": 144
  },
  {
   "metadata": {
    "ExecuteTime": {
     "end_time": "2024-04-29T15:09:05.280257Z",
     "start_time": "2024-04-29T15:09:05.268002Z"
    }
   },
   "cell_type": "code",
   "source": "res = [sudoku]",
   "id": "2830359a3e6823fe",
   "outputs": [],
   "execution_count": 145
  },
  {
   "metadata": {
    "jupyter": {
     "is_executing": true
    },
    "ExecuteTime": {
     "start_time": "2024-04-29T15:09:05.282257Z"
    }
   },
   "cell_type": "code",
   "source": "bfs_res = bfs(res)",
   "id": "e0c0e7ed28d655d5",
   "outputs": [],
   "execution_count": null
  },
  {
   "metadata": {
    "jupyter": {
     "is_executing": true
    }
   },
   "cell_type": "code",
   "source": "len(bfs_res)",
   "id": "a942bdbfe975f86",
   "outputs": [],
   "execution_count": null
  },
  {
   "metadata": {
    "jupyter": {
     "is_executing": true
    }
   },
   "cell_type": "code",
   "source": "bfs_res[0].board",
   "id": "5a6936bfe8d58b4d",
   "outputs": [],
   "execution_count": null
  },
  {
   "metadata": {
    "jupyter": {
     "is_executing": true
    }
   },
   "cell_type": "code",
   "source": "",
   "id": "85f7faff4c964b0e",
   "outputs": [],
   "execution_count": null
  }
 ],
 "metadata": {
  "kernelspec": {
   "display_name": "Python 3",
   "language": "python",
   "name": "python3"
  },
  "language_info": {
   "codemirror_mode": {
    "name": "ipython",
    "version": 2
   },
   "file_extension": ".py",
   "mimetype": "text/x-python",
   "name": "python",
   "nbconvert_exporter": "python",
   "pygments_lexer": "ipython2",
   "version": "2.7.6"
  }
 },
 "nbformat": 4,
 "nbformat_minor": 5
}
