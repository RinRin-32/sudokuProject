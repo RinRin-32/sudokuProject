{
 "cells": [
  {
   "metadata": {
    "ExecuteTime": {
     "end_time": "2024-05-01T14:29:52.871455Z",
     "start_time": "2024-05-01T14:29:52.852546Z"
    }
   },
   "cell_type": "code",
   "source": [
    "import numpy as np\n",
    "import itertools"
   ],
   "id": "aeac897f903b0a67",
   "outputs": [],
   "execution_count": 241
  },
  {
   "cell_type": "code",
   "id": "initial_id",
   "metadata": {
    "collapsed": true,
    "ExecuteTime": {
     "end_time": "2024-05-01T14:29:52.886692Z",
     "start_time": "2024-05-01T14:29:52.872969Z"
    }
   },
   "source": [
    "class Cell:\n",
    "    def __init__(self, value = 0, ans = [],row = 0 ,col = 0):\n",
    "        self.value = value\n",
    "        self.ans = ans\n",
    "        self.row = row\n",
    "        self.col = col\n",
    "        "
   ],
   "outputs": [],
   "execution_count": 242
  },
  {
   "metadata": {
    "ExecuteTime": {
     "end_time": "2024-05-01T14:29:52.902062Z",
     "start_time": "2024-05-01T14:29:52.888292Z"
    }
   },
   "cell_type": "code",
   "source": [
    "class Board:\n",
    "    def __init__(self, size, state):\n",
    "        self.grid = np.empty((size, size), dtype=Cell)\n",
    "        self.size = size\n",
    "        self.state = initial\n",
    "        self.count = 0\n",
    "        self.path = []\n",
    "    def calc(self):\n",
    "        for i in range(self.size):\n",
    "            for j in range(self.size):\n",
    "                if self.grid[i,j].value == 0:\n",
    "                    possible = list(range(1,10))\n",
    "                    row_ele = self.state[i, :].tolist()\n",
    "                    row_col = self.state[:, j].tolist()\n",
    "                    x = i//3\n",
    "                    y = j//3\n",
    "                    square = list(itertools.chain(*self.state[3*x:3*x+3, 3*y:3*y+3].tolist()))\n",
    "                    possible = list(set(possible) - set(row_ele) - set(row_col) - set(square))\n",
    "                    self.grid[i,j].ans = possible\n",
    "                    self.count+=1\n",
    "                    self.path.append(self.grid[i,j])\n",
    "                    self.listed = True\n",
    "    def solve(self):\n",
    "        passed = []\n",
    "        while self.path:\n",
    "            queue = self.path.pop(0)\n",
    "            row_ele = self.state[queue.row, :].tolist()\n",
    "            row_col = self.state[:, queue.col].tolist()\n",
    "            x = queue.row//3\n",
    "            y = queue.col//3\n",
    "            square = list(itertools.chain(*self.state[3*x:3*x+3, 3*y:3*y+3].tolist()))\n",
    "            possible = list(set(queue.ans) - set(row_ele) - set(row_col) - set(square))\n",
    "            print(possible)\n",
    "            if len(possible) == 0:\n",
    "                # if no possible answer, it should traverse back and choose the next best answer\n",
    "                '''passed[-1].ans.pop(0)\n",
    "                self.state[passed[-1].row, passed[-1].col] = 0\n",
    "                self.path.insert(0, passed.pop(-1))\n",
    "                self.count += 1\n",
    "                print('added')'''\n",
    "            else:\n",
    "                # if possible answer >= 1, it should choose the first best answer\n",
    "                '''queue.value = queue.ans[0]\n",
    "                self.state[queue.row, queue.col] = queue.value\n",
    "                passed.append(queue)\n",
    "                self.count -= 1'''\n",
    "            "
   ],
   "id": "961edee16abc31be",
   "outputs": [],
   "execution_count": 243
  },
  {
   "metadata": {
    "ExecuteTime": {
     "end_time": "2024-05-01T14:29:52.933655Z",
     "start_time": "2024-05-01T14:29:52.920714Z"
    }
   },
   "cell_type": "code",
   "source": [
    "initial = np.array([[8, 0, 0, 6, 0, 0, 0, 2, 0],\n",
    "                         [0, 0, 3, 0, 9, 4, 6, 0, 0],\n",
    "                         [7, 0, 0, 5, 0, 0, 0, 9, 3],\n",
    "                         [9, 0, 0, 8, 6, 0, 5, 0, 0],\n",
    "                         [4, 8, 0, 3, 0, 9, 0, 6, 1],\n",
    "                         [0, 0, 6, 0, 4, 2, 0, 0, 9],\n",
    "                         [6, 9, 0, 0, 0, 5, 0, 0, 2],\n",
    "                         [0, 0, 4, 9, 1, 0, 3, 0, 0],\n",
    "                         [0, 1, 0, 0, 0, 7, 0, 0, 6],])"
   ],
   "id": "b51082bba58c4842",
   "outputs": [],
   "execution_count": 245
  },
  {
   "metadata": {
    "ExecuteTime": {
     "end_time": "2024-05-01T14:29:52.949459Z",
     "start_time": "2024-05-01T14:29:52.935517Z"
    }
   },
   "cell_type": "code",
   "source": "sudoku = Board(9, initial)",
   "id": "8e49aaef43ac8ec5",
   "outputs": [],
   "execution_count": 246
  },
  {
   "metadata": {
    "ExecuteTime": {
     "end_time": "2024-05-01T14:29:52.965088Z",
     "start_time": "2024-05-01T14:29:52.951077Z"
    }
   },
   "cell_type": "code",
   "source": "initial[0,0]",
   "id": "3263de9dab19a4e5",
   "outputs": [
    {
     "data": {
      "text/plain": [
       "8"
      ]
     },
     "execution_count": 247,
     "metadata": {},
     "output_type": "execute_result"
    }
   ],
   "execution_count": 247
  },
  {
   "metadata": {
    "ExecuteTime": {
     "end_time": "2024-05-01T14:29:52.980576Z",
     "start_time": "2024-05-01T14:29:52.966926Z"
    }
   },
   "cell_type": "code",
   "source": [
    "for i in range(9):\n",
    "    for j in range(9):\n",
    "        sudoku.grid[i,j] = Cell(initial[i,j],row = i, col = j)\n",
    "        print(sudoku.grid[i,j].value, end=\" \")\n",
    "    print(\"\")"
   ],
   "id": "c114ae898c5a823",
   "outputs": [
    {
     "name": "stdout",
     "output_type": "stream",
     "text": [
      "8 0 0 6 0 0 0 2 0 \n",
      "0 0 3 0 9 4 6 0 0 \n",
      "7 0 0 5 0 0 0 9 3 \n",
      "9 0 0 8 6 0 5 0 0 \n",
      "4 8 0 3 0 9 0 6 1 \n",
      "0 0 6 0 4 2 0 0 9 \n",
      "6 9 0 0 0 5 0 0 2 \n",
      "0 0 4 9 1 0 3 0 0 \n",
      "0 1 0 0 0 7 0 0 6 \n"
     ]
    }
   ],
   "execution_count": 248
  },
  {
   "metadata": {
    "ExecuteTime": {
     "end_time": "2024-05-01T14:29:52.995584Z",
     "start_time": "2024-05-01T14:29:52.982630Z"
    }
   },
   "cell_type": "code",
   "source": "sudoku.calc()",
   "id": "f5ba67869e8915bd",
   "outputs": [],
   "execution_count": 249
  },
  {
   "metadata": {
    "ExecuteTime": {
     "end_time": "2024-05-01T14:29:53.010871Z",
     "start_time": "2024-05-01T14:29:52.997218Z"
    }
   },
   "cell_type": "code",
   "source": [
    "for i in range(9):\n",
    "    for j in range(9):\n",
    "        print(sudoku.grid[i,j].value, end=\" \")\n",
    "    print(\"\")"
   ],
   "id": "dae0358c8e18a2d",
   "outputs": [
    {
     "name": "stdout",
     "output_type": "stream",
     "text": [
      "8 0 0 6 0 0 0 2 0 \n",
      "0 0 3 0 9 4 6 0 0 \n",
      "7 0 0 5 0 0 0 9 3 \n",
      "9 0 0 8 6 0 5 0 0 \n",
      "4 8 0 3 0 9 0 6 1 \n",
      "0 0 6 0 4 2 0 0 9 \n",
      "6 9 0 0 0 5 0 0 2 \n",
      "0 0 4 9 1 0 3 0 0 \n",
      "0 1 0 0 0 7 0 0 6 \n"
     ]
    }
   ],
   "execution_count": 250
  },
  {
   "metadata": {
    "ExecuteTime": {
     "end_time": "2024-05-01T14:29:53.026552Z",
     "start_time": "2024-05-01T14:29:53.011978Z"
    }
   },
   "cell_type": "code",
   "source": "sudoku.solve()",
   "id": "83e118358608566a",
   "outputs": [
    {
     "name": "stdout",
     "output_type": "stream",
     "text": [
      "[4, 5]\n",
      "[1, 5, 9]\n",
      "[3, 7]\n",
      "[]\n",
      "added\n",
      "[7]\n",
      "[]\n",
      "added\n",
      "[]\n",
      "added\n",
      "[9, 5]\n",
      "[7]\n",
      "[1, 2]\n",
      "[2]\n",
      "[7]\n",
      "[8, 5, 7]\n",
      "[5, 7]\n",
      "[6]\n",
      "[]\n",
      "added\n",
      "[6]\n",
      "[8, 2]\n",
      "[]\n",
      "added\n",
      "[2]\n",
      "[1]\n",
      "[3, 7]\n",
      "[1, 7]\n",
      "[]\n",
      "added\n",
      "[7]\n",
      "[3, 4, 7]\n",
      "[7]\n",
      "[7]\n",
      "[5, 7]\n",
      "[7]\n",
      "[3, 5]\n",
      "[3, 5, 7]\n",
      "[7]\n",
      "[7]\n",
      "[7]\n",
      "[8, 7]\n",
      "[4]\n",
      "[3]\n",
      "[1, 7]\n",
      "[1, 7]\n",
      "[2, 5]\n",
      "[5, 7]\n",
      "[6]\n",
      "[5, 7]\n",
      "[5, 7]\n",
      "[3, 5]\n",
      "[]\n",
      "added\n",
      "[3, 5]\n",
      "[2]\n",
      "[]\n",
      "added\n",
      "[]\n",
      "added\n",
      "[5]\n",
      "[9, 4]\n",
      "[4]\n"
     ]
    }
   ],
   "execution_count": 251
  },
  {
   "metadata": {
    "ExecuteTime": {
     "end_time": "2024-05-01T14:29:53.042371Z",
     "start_time": "2024-05-01T14:29:53.028246Z"
    }
   },
   "cell_type": "code",
   "source": "sudoku.state",
   "id": "28b5fd5ec6a77004",
   "outputs": [
    {
     "data": {
      "text/plain": [
       "array([[8, 4, 5, 6, 0, 0, 0, 2, 4],\n",
       "       [1, 2, 3, 1, 9, 4, 6, 8, 8],\n",
       "       [7, 4, 0, 5, 2, 0, 8, 9, 3],\n",
       "       [9, 2, 2, 8, 6, 0, 5, 3, 4],\n",
       "       [4, 8, 2, 3, 5, 9, 2, 6, 1],\n",
       "       [1, 3, 6, 1, 4, 2, 8, 8, 9],\n",
       "       [6, 9, 8, 4, 8, 5, 8, 8, 2],\n",
       "       [2, 2, 4, 9, 1, 8, 3, 8, 8],\n",
       "       [5, 1, 0, 0, 0, 7, 8, 8, 6]])"
      ]
     },
     "execution_count": 252,
     "metadata": {},
     "output_type": "execute_result"
    }
   ],
   "execution_count": 252
  },
  {
   "metadata": {
    "ExecuteTime": {
     "end_time": "2024-05-01T14:29:53.057370Z",
     "start_time": "2024-05-01T14:29:53.044886Z"
    }
   },
   "cell_type": "code",
   "source": "",
   "id": "d6e83a17f271b136",
   "outputs": [],
   "execution_count": 252
  }
 ],
 "metadata": {
  "kernelspec": {
   "display_name": "Python 3",
   "language": "python",
   "name": "python3"
  },
  "language_info": {
   "codemirror_mode": {
    "name": "ipython",
    "version": 2
   },
   "file_extension": ".py",
   "mimetype": "text/x-python",
   "name": "python",
   "nbconvert_exporter": "python",
   "pygments_lexer": "ipython2",
   "version": "2.7.6"
  }
 },
 "nbformat": 4,
 "nbformat_minor": 5
}
